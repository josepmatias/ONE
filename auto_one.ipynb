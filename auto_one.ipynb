{
  "nbformat": 4,
  "nbformat_minor": 0,
  "metadata": {
    "colab": {
      "provenance": [],
      "authorship_tag": "ABX9TyOJkV3wYEiMgwquaYhIJniF",
      "include_colab_link": true
    },
    "kernelspec": {
      "name": "python3",
      "display_name": "Python 3"
    },
    "language_info": {
      "name": "python"
    }
  },
  "cells": [
    {
      "cell_type": "markdown",
      "metadata": {
        "id": "view-in-github",
        "colab_type": "text"
      },
      "source": [
        "<a href=\"https://colab.research.google.com/github/josepmatias/ONE/blob/main/auto_one.ipynb\" target=\"_parent\"><img src=\"https://colab.research.google.com/assets/colab-badge.svg\" alt=\"Open In Colab\"/></a>"
      ]
    },
    {
      "cell_type": "code",
      "execution_count": null,
      "metadata": {
        "id": "pl0q5ENpKaOJ"
      },
      "outputs": [],
      "source": [
        "import pandas as pd\n",
        "import numpy as np"
      ]
    },
    {
      "cell_type": "code",
      "source": [
        "pip install pyxlsb"
      ],
      "metadata": {
        "id": "Du4afNloMLy-"
      },
      "execution_count": null,
      "outputs": []
    },
    {
      "cell_type": "code",
      "source": [
        "#actualização de nomes de ficheiros e filtros\n",
        "\n",
        "cadastro_nome=\"Cadastro_desbloqueado_18.6.xlsb\"\n",
        "servicos_nome=\"listagem activações com SDD.xlsb\"\n",
        "modelo_upfront_nome=\"Modelo upfront.xlsb\"\n",
        "listagem_cadastro=\"listagem cadastro maio 24.xlsb\"\n",
        "activacoes_neg=\"Ativações_Negativas_abr24_em_mai24_ONE.xlsb\"\n",
        "\n",
        "#actualização do nome de folhas\n",
        "servicos_folha=\"Sheet1\"\n",
        "cadastro_folha=\"Cadastro de Ativos\""
      ],
      "metadata": {
        "id": "FOL_5L5oTuHg"
      },
      "execution_count": null,
      "outputs": []
    },
    {
      "cell_type": "code",
      "source": [
        "#carregar ficheiros\n",
        "from google.colab import files\n",
        "uploaded = files.upload()\n",
        "#uploaded2=files.upload()\n",
        "#uploaded3=files.upload()\n",
        "#uploaded4=files.upload()"
      ],
      "metadata": {
        "id": "TEynDf4RUdC9"
      },
      "execution_count": null,
      "outputs": []
    },
    {
      "cell_type": "code",
      "source": [
        "#função para retirar blanks e transformar em letras minúsculas\n",
        "def formatar_palavra (palavra):\n",
        "  return palavra.lower().strip()\n"
      ],
      "metadata": {
        "id": "ui8MHVWfSvw9"
      },
      "execution_count": null,
      "outputs": []
    },
    {
      "cell_type": "code",
      "source": [
        "#ler ficheiro das activações - rever\n",
        "activacoes_df=pd.read_excel(servicos_nome, sheet_name=servicos_folha)\n",
        "\n",
        "activacoes_df.head(2)\n",
        "\n",
        "print(f\"a shape da listagem de activações é {activacoes_df.shape}\")\n",
        "\n",
        "#pegar na coluna \"CONCATENATE\" para criar coluna cav\n",
        "\n",
        "#activacoes_df[\"cav\"]=activacoes_df[\"CONCATENATE\"].apply(lambda i:i[-len(i)+12:]).astype(\"str\")\n",
        "\n",
        "#formatar coluna \"CAV\" na listagem de activações\n",
        "#activacoes_df[\"CAV\"]=activacoes_df.loc[activacoes_df[\"cav\"].isna()==False, \"cav\"].apply(lambda i: str(i).split(\".\")[0])\n",
        "\n",
        "#criar coluna \"user 2\" na listagem de activações usando função \"formatar_palavra\"\n",
        "#activacoes_df[\"user 2\"]=activacoes_df[\"user\"].apply(lambda i: formatar_palavra(i))\n",
        "#print(f\"o nº de linhas das activações do auto é {activacoes_df.iloc[:, 0].count()}\")\n",
        "#activacoes_df.head()"
      ],
      "metadata": {
        "id": "JoVXCaTdefd_"
      },
      "execution_count": null,
      "outputs": []
    },
    {
      "cell_type": "code",
      "source": [
        "#ler colunas a importar da listagem de activações\n",
        "\n",
        "colunas=pd.read_excel(\"Modelo upfront (2).xlsb\", sheet_name=1).iloc[:, 3].tolist()\n",
        "\n",
        "\n",
        "activacoes_df=activacoes_df[colunas]\n",
        "\n",
        "print(f\"a shape da listagem de activações é {activacoes_df.shape}\")\n",
        "\n",
        "activacoes_df.head()"
      ],
      "metadata": {
        "id": "JNF5DrP3XOdN"
      },
      "execution_count": null,
      "outputs": []
    },
    {
      "cell_type": "code",
      "source": [
        "#definir 1ª coluna da dataframe \"activacoes_df\" como \"Activações\"\n",
        "\n",
        "activacoes_df[\"Tipo\"]=\"Activações\"\n",
        "\n",
        "activacoes_df=activacoes_df[[\"Tipo\"] + activacoes_df.iloc[:, :-2].columns.tolist()]\n",
        "\n",
        "activacoes_df.head(2)"
      ],
      "metadata": {
        "id": "u4EmfL8a5SL4"
      },
      "execution_count": null,
      "outputs": []
    },
    {
      "cell_type": "code",
      "source": [
        "#ler ficheiro cadastro\n",
        "cadastro_df=pd.read_excel(cadastro_nome, sheet_name=cadastro_folha)\n",
        "\n",
        "#criar coluna \"User Aplicações 2\" com letras minúsculas - criar nova coluna\n",
        "cadastro_df[\"user aplicações 2\"]=cadastro_df[\"User Aplicações\"].apply(lambda i: formatar_palavra(i))\n",
        "\n",
        "cadastro_df.head(2)"
      ],
      "metadata": {
        "id": "IsaBccEtoexW"
      },
      "execution_count": null,
      "outputs": []
    },
    {
      "cell_type": "code",
      "source": [
        "#ler o modelo upfront\n",
        "\n",
        "matriz_upfront=pd.read_excel(modelo_upfront_nome, sheet_name=0).iloc[:, [44, 45, 46]]\n",
        "\n",
        "matriz_upfront.columns=matriz_upfront.iloc[0, :]\n",
        "\n",
        "matriz_upfront.drop(0, inplace=True)\n",
        "\n",
        "matriz_upfront.head()"
      ],
      "metadata": {
        "id": "jo1Qe2rCT9nX"
      },
      "execution_count": null,
      "outputs": []
    },
    {
      "cell_type": "code",
      "source": [
        "#ler a tabela com a matriz de pontuação\n",
        "\n",
        "matriz_pontuacao=pd.read_excel(modelo_upfront_nome, sheet_name=0).iloc[:,51:56]\n",
        "\n",
        "matriz_pontuacao.columns=matriz_pontuacao.iloc[0, :]\n",
        "\n",
        "matriz_pontuacao=matriz_pontuacao.iloc[1:,:]\n",
        "\n",
        "matriz_pontuacao2=matriz_pontuacao.dropna()\n",
        "\n",
        "matriz_pontuacao2.head()"
      ],
      "metadata": {
        "id": "B8JdzgB4zMjT"
      },
      "execution_count": null,
      "outputs": []
    },
    {
      "cell_type": "code",
      "source": [
        "#se análise daf for dth para cabo, CONTINUAR AQUI\n",
        "\n",
        "#coluna \"tipo_detalhe\" com base na Analise DAF:\n",
        "#. Comissionado Seguro -> Ciclo - Seguros\n",
        "#. Comissionado Alarme -> Ciclo - Alarmes\n",
        "#. Comissionada Navegação Segura -> Ciclo - Navegação Segura\n",
        "#. Comissionado Router 6.0 | Comissionado Power wi-fi -> Ciclo - Equipamentos\n",
        "#. restantes analise daf -> Ciclo - Serviços\n"
      ],
      "metadata": {
        "id": "-_POduLJTHwB"
      },
      "execution_count": null,
      "outputs": []
    },
    {
      "cell_type": "code",
      "source": [
        "#criar coluna \"Tipo_Detalhe\"\n",
        "analises=[\"Comissionado Seguro\", \"Comissionado Alarme\", \"Comissionada Navegação Segura\", \"Comissionado Router 6.0\",\\\n",
        "\"Comissionado Power wi-fi\"]\n",
        "\n",
        "detalhes=[\"Ciclo - Seguros\", \"Ciclo - Alarmes\", \"Ciclo - Navegação Segura\", \"Ciclo - Equipamentos\", \"Ciclo - Equipamentos\"]\n",
        "\n",
        "mascara2=pd.Series([True] * len(activacoes_df))\n",
        "for i, j in zip(analises, detalhes):\n",
        "  mascara=activacoes_df[\"Analise DAF\"]==i\n",
        "  mascara2|=mascara\n",
        "  #print(activacoes_df.loc[mascara, \"Analise DAF\"].count())\n",
        "  activacoes_df.loc[mascara, \"Tipo_Detalhe\"]=j\n",
        "\n",
        "#preencher restantes linhas na coluna \"Tipo_Detalhe\" como \"Ciclo - Serviços\"\n",
        "\n",
        "activacoes_df.loc[~activacoes_df[\"Analise DAF\"].isin(analises), \"Tipo_Detalhe\"]=\"Ciclo - Serviços\""
      ],
      "metadata": {
        "id": "HKP-4noQEOHi"
      },
      "execution_count": null,
      "outputs": []
    },
    {
      "cell_type": "code",
      "source": [
        "#contabilização do nº de linhas na coluna \"tipo detalhe\"\n",
        "activacoes_df[\"Tipo_Detalhe\"].value_counts()"
      ],
      "metadata": {
        "id": "K2trNthzGqvF"
      },
      "execution_count": null,
      "outputs": []
    },
    {
      "cell_type": "code",
      "source": [
        "#cálculo do valor de upfront\n",
        "\n",
        "area=matriz_upfront[matriz_upfront.iloc[:, 0].isna()==False].iloc[:, 0].tolist()\n",
        "upfront=matriz_upfront[matriz_upfront.iloc[:, 0].isna()==False].iloc[:, 1].tolist()\n",
        "\n",
        "for i, j in zip(area, upfront):\n",
        "  if activacoes_df.loc[activacoes_df[\"Sub-Área de Negócio\"]==i, \"Sub-Área de Negócio\"].count()>0:\n",
        "    activacoes_df.loc[activacoes_df[\"Sub-Área de Negócio\"]==i, \"Upfront € operador\"]=j\n",
        "\n",
        "#corrigir upfront de dth para cabo e pré-pagos, pois não são definidos com base na sub-area de negócio\n",
        "\n",
        "mascaradth=activacoes_df[\"Analise DAF\"].str.contains(\"dth para cabo\", case=False)\n",
        "mascarapre=activacoes_df[\"Analise DAF\"].str.contains(\"pré-pago\", case=False)\n",
        "\n",
        "activacoes_df.loc[mascaradth, \"Upfront € operador\"]=5\n",
        "\n",
        "activacoes_df.loc[mascarapre, \"Upfront € operador\"]=2.5\n"
      ],
      "metadata": {
        "id": "JfsG74o3fEc5"
      },
      "execution_count": null,
      "outputs": []
    },
    {
      "cell_type": "code",
      "source": [
        "#contabilização do nº de linhas na coluna \"Upfront € operador\"\n",
        "activacoes_df[\"Upfront € operador\"].value_counts()"
      ],
      "metadata": {
        "id": "DT4u0oBdrR8I"
      },
      "execution_count": null,
      "outputs": []
    },
    {
      "cell_type": "code",
      "source": [
        "#se Analise DAF for \"Comissionado Alarme\", ver se há pontos extra consoante a \"Campanha outbound (por CAV, Campanha Final)\"\n",
        "\n",
        "masc_alarme=activacoes_df[\"Analise DAF\"].str.contains(\"alarme\", case=False)\n",
        "\n",
        "for i in activacoes_df.loc[masc_alarme, \"Campanha outbound (por CAV, Campanha Final)\"].tolist():\n",
        "  pontos_adicionais=matriz_pontuacao2.loc[matriz_pontuacao2.iloc[:, 0]==i, :].iloc[:, -1].values[0].split(\" \")[0]\n",
        "  activacoes_df.loc[masc_alarme, \"Ptos GCO Adicionais\"]=pontos_adicionais\n",
        "\n"
      ],
      "metadata": {
        "id": "vtnbrDe6fdVp"
      },
      "execution_count": null,
      "outputs": []
    },
    {
      "cell_type": "code",
      "source": [
        "#se Sub-Área de Negócio for \"CABO\", \"DTH\", \"NET\" e \"VOIP\" - criação da coluna \"Ptos GCO Adicionais\"\n",
        "lista=[\"CABO\", \"DTH\", \"NET\", \"VOIP\"]\n",
        "activacoes_df.loc[activacoes_df[\"Sub-Área de Negócio\"].isin(lista), \"Campanha outbound (por CAV, Campanha Final)\"]\n",
        "\n",
        "def pont_extra (db, db2, col_out=\"Campanha outbound (por CAV, Campanha Final)\", col=\"Sub-Área de Negócio\", sub=[\"CABO\", \"DTH\", \"NET\", \"VOIP\"]):\n",
        "  #masc_sub -> filtro por cabo, dth, net, voip na sub-area\n",
        "  masc_sub=db[col].isin(sub)\n",
        "  #dataframe resumida com campanhas únicas\n",
        "  db_short=pd.DataFrame(db.loc[masc_sub, col_out].unique(), columns=[\"campanha\"])\n",
        "  #merge com matriz_pontuacao2\n",
        "  db_pont=db_short.merge(db2.loc[db2.iloc[:, 3].str.contains(\"2\"), :], how=\"right\", left_on=\"campanha\", right_on=\"Campanha Final\")\n",
        "  lista2=db_pont.loc[db_pont[\"campanha\"].isna()==False, \"campanha\"].unique()\n",
        "\n",
        "  masc_camp=db[col_out].isin(lista2)\n",
        "  #fixação pontos finais\n",
        "  db.loc[masc_sub & masc_camp, \"Ptos GCO Adicionais\"]=2\n",
        "\n",
        "\n",
        "\n",
        "pont_extra(activacoes_df, matriz_pontuacao2, \"Campanha outbound (por CAV, Campanha Final)\")"
      ],
      "metadata": {
        "id": "bVCtx4ZIlS7X"
      },
      "execution_count": null,
      "outputs": []
    },
    {
      "cell_type": "code",
      "source": [
        "#atribuição de nº de pontos - GCOpts\n",
        "#se pagar for \"sim\"\n",
        "#se Campanha outbound (por CAV, Campanha Final) é \"up_alarmes_excl\" -> pontos 0\n",
        "#se Analise DAF é \"Comissionada Navegação Segura\", \"Comissionado Seguro\", \"Comissionado Router 6.0\", \"Comissionado Power wi-fi\" -> pontos 0\n",
        "#se Analise DAF é \"Comissionado Blitz BLM\", procurar na matriz_pontuacao por \"Prospect_blitz_blm\"\n",
        "#se Analise DAF é \"Comissionado DTH para Cabo\" procurar na matriz_pontuacao por \"up_migracao_dth\"\n",
        "#os restantes procurar directamente na matriz_pontuacao\n",
        "\n",
        "listazero=[\"Navegação\", \"Seguro\", \"Router 6.0\", \"wi-fi\"] #análise daf\n",
        "\n",
        "lista_alarmes=[\"up_alarmes_excl\"]\n",
        "dicionario={0:listazero+lista_alarmes, \"prospect_blitz_blm\": \"Comissionado Blitz BLM\", \"up_migracao_dth\": \"Comissionado DTH para Cabo\"}\n",
        "listadaf=[]\n",
        "\n",
        "def pontos_cat(db, db2, dici=dicionario, col1=\"Analise DAF\", col2=\"Campanha outbound (por CAV, Campanha Final)\"): #pts GCO\n",
        "  #fixar campanhas a zero\n",
        "  for i, j in dici.items():\n",
        "    if i==0: #se j não for \"up_alarmes_excl\", vai procurar na análise daf\n",
        "      for count in j:\n",
        "        if count!=\"up_alarmes_excl\":\n",
        "          masc1=db[col1].str.contains(count, case=False)\n",
        "          db.loc[masc1, \"pts GCO\"]=0\n",
        "          listadaf.extend(db.loc[masc1, col1].tolist())\n",
        "        else:\n",
        "          masc1=db[col2].str.contains(count, case=False)\n",
        "          db.loc[masc1, \"pts GCO\"]=0\n",
        "    else: #up_migracao_dth e prospect_blitz_blm\n",
        "      masc3=db[col1]==j #se for up_migracao_dth ou prospect_blitz_blm\n",
        "      #print(j + \" -> \" + str(db.loc[masc3, col1].count()))\n",
        "      valor=db2.loc[db2.iloc[:, 0]==i, :].iloc[:, 2].values[0]\n",
        "      db.loc[masc3, \"pts GCO\"]=valor\n",
        "      listadaf.extend(db.loc[masc3, col1].tolist())\n",
        "\n",
        "pontos_cat(activacoes_df, matriz_pontuacao2)"
      ],
      "metadata": {
        "id": "FlkpcrHM3H6S"
      },
      "execution_count": null,
      "outputs": []
    },
    {
      "cell_type": "code",
      "source": [
        "#obter a pontuação da coluna \"pts GCO\" com base na coluna campanha outbound e que não é incluído nas excepções anteriores\n",
        "\n",
        "def pontuacao2 (db, db2, col_pt=\"pts GCO\", col_camp=\"Campanha outbound (por CAV, Campanha Final)\"):\n",
        "  mask1=db[col_pt].isna()==True\n",
        "  #campanhas=db.loc[mask1, col_camp]\n",
        "  db.loc[mask1, col_pt]=db.loc[mask1, [col_camp]].merge(db2, how=\"left\", left_on=col_camp, right_on=\"Campanha Final\").iloc[:, 3].tolist()\n",
        "pontuacao2(activacoes_df, matriz_pontuacao2)\n"
      ],
      "metadata": {
        "id": "AKXqrrbulPw9"
      },
      "execution_count": null,
      "outputs": []
    },
    {
      "cell_type": "code",
      "source": [
        "#somar colunas \"pts GCO\" e \"Ptos GCO Adicionais\"\n",
        "\n",
        "activacoes_df.loc[activacoes_df[\"Ptos GCO Adicionais\"].isna()==True, \"Ptos GCO Adicionais\"]=0\n",
        "\n",
        "activacoes_df[\"pts GCO\"]=\\\n",
        "list(map(lambda i, j: i+j, activacoes_df[\"Ptos GCO Adicionais\"].astype(\"float\").tolist(), activacoes_df[\"pts GCO\"].astype(\"float\").tolist()))"
      ],
      "metadata": {
        "id": "95eUwOH1z2_-"
      },
      "execution_count": null,
      "outputs": []
    },
    {
      "cell_type": "code",
      "source": [
        "#ler matriz info_autos\n",
        "\n",
        "matriz_info=pd.read_excel(modelo_upfront_nome, sheet_name=0).iloc[:,33:42]\n",
        "\n",
        "matriz_info.columns=matriz_info.iloc[0, :]\n",
        "\n",
        "matriz_info=matriz_info.iloc[1:, :]\n",
        "\n",
        "matriz_info.head()"
      ],
      "metadata": {
        "id": "RimMcXLdB9OH"
      },
      "execution_count": null,
      "outputs": []
    },
    {
      "cell_type": "code",
      "source": [
        "#ler ficheiro de activações negativas - 24/6\n",
        "\n",
        "from google.colab import files\n",
        "uploaded = files.upload()"
      ],
      "metadata": {
        "id": "kgn-zIKrB4eW"
      },
      "execution_count": null,
      "outputs": []
    },
    {
      "cell_type": "code",
      "source": [
        "#activacoes_neg=pd.read_excel(activacoes_neg, sheet_name=0)\n",
        "\n",
        "activacoes_neg=pd.read_excel(\"Ativações_Negativas_abr24_em_mai24_ONE.xlsb\", sheet_name=0)\n",
        "\n",
        "activacoes_neg.head()"
      ],
      "metadata": {
        "id": "bnmgd03vMbRQ"
      },
      "execution_count": null,
      "outputs": []
    },
    {
      "cell_type": "code",
      "source": [
        "print(f\"o nº de colunas na listagem de activações é {len(activacoes_df.columns.tolist())}\")\n",
        "\n",
        "print(f\"o nº de colunas da listagem de activações negativas é {len(activacoes_neg2.columns.tolist())}\")\n",
        "\n",
        "list(filter(lambda i: i not in activacoes_neg2.columns.tolist(), activacoes_df.columns.tolist()))\n",
        "\n"
      ],
      "metadata": {
        "id": "gUjN_xbNWWrh"
      },
      "execution_count": null,
      "outputs": []
    },
    {
      "cell_type": "code",
      "source": [
        "#colunas a copiar do ficheiro de activações negativas para o auto:\n",
        "\n",
        "lista_neg=list(filter(lambda i: i not in activacoes_df.columns.tolist(), activacoes_neg.columns.tolist()))\n",
        "\n",
        "lista_activacoes=list(filter(lambda i: i in activacoes_neg.columns.tolist(), activacoes_df.columns.tolist()))\n",
        "\n",
        "print(lista_activacoes)\n",
        "\n",
        "activacoes_neg2=activacoes_neg.drop(columns=lista_neg)\n",
        "\n",
        "activacoes_neg2=activacoes_neg2[lista_activacoes]\n",
        "\n",
        "activacoes_neg2.head(2)\n",
        "\n",
        "#activacoes_df2.columns\n",
        "\n",
        "print(len(activacoes_neg2.columns.tolist()))"
      ],
      "metadata": {
        "id": "ZToAATxjM-SI"
      },
      "execution_count": null,
      "outputs": []
    },
    {
      "cell_type": "code",
      "source": [
        "#concatenar listagem de activações com listagem de activações negativas\n",
        "\n",
        "activacoes_df2=pd.concat([activacoes_df, activacoes_neg2], axis=0, ignore_index=True)\n",
        "\n",
        "print(f\"a shape da listagem de activações é {activacoes_df.shape}\")\n",
        "\n",
        "print(f\"a shape da listagem de activações negativas é {activacoes_neg2.shape}\")\n",
        "\n",
        "print(f\"a shape da listagem de activações + listagem de activações negativas é {activacoes_df2.shape}\")"
      ],
      "metadata": {
        "id": "DD5SvGwcTIrS"
      },
      "execution_count": null,
      "outputs": []
    },
    {
      "cell_type": "code",
      "source": [
        "#calcular o objectivo para cada operador\n",
        "\n",
        "activacoes_df[[\"user 2\", \"Carga Horária\", \"pts GCO\"]].groupby([\"user 2\", \"Carga Horária\"]) [\"pts GCO\"].sum().reset_index()\n",
        "\n",
        "#[i for i in activacoes_df.columns.tolist() if str(i).startswith(\"pts\")]\n",
        "\n"
      ],
      "metadata": {
        "id": "mmglD9WL2-lZ"
      },
      "execution_count": null,
      "outputs": []
    },
    {
      "cell_type": "code",
      "source": [
        "#ler ficheiro da listagem de cadastro\n",
        "listagem_cadastrodf=pd.read_excel(listagem_cadastro, sheet_name=0)\n",
        "listagem_cadastrodf.head()\n"
      ],
      "metadata": {
        "id": "AI0f3m-d7x75"
      },
      "execution_count": null,
      "outputs": []
    },
    {
      "cell_type": "code",
      "source": [
        "df=cadastro_df.groupby(\"user aplicações 2\") [\"Campanha Final\"].nunique().reset_index()\n",
        "df[df[\"Campanha Final\"].astype(\"int\")>1]\n",
        "\n"
      ],
      "metadata": {
        "id": "4QOQ-HmVHRNd"
      },
      "execution_count": null,
      "outputs": []
    },
    {
      "cell_type": "code",
      "source": [
        "#criar tabela \"cadastro_auto\" para criar coluna auto no ciclo de activações\n",
        "\n",
        "#certificar que cada cav outbound tem uma única \"campanha final\"\n",
        "print(\"o nº de campanhas finais por cav são: \")\n",
        "print(cadastro_df.groupby(\"user aplicações 2\") [\"Campanha Final\"].nunique().unique())\n",
        "\n",
        "cadastro_auto=cadastro_df[[\"user aplicações 2\", \"Campanha Final\"]].drop_duplicates(\"user aplicações 2\", ignore_index=True)\n",
        "\n",
        "cadastro_auto.head()"
      ],
      "metadata": {
        "id": "l25TFGVXqk7T"
      },
      "execution_count": null,
      "outputs": []
    },
    {
      "cell_type": "code",
      "source": [
        "#criar coluna provisória \"campanha final\" para determinar o auto de cada cav\n",
        "\n",
        "activacoes_df[\"campanha final\"]=activacoes_df.merge(cadastro_auto, how=\"left\", left_on=\"user 2\", right_on=\"user aplicações 2\").iloc[:, -1]\n",
        "\n",
        "print(f\"o nº de linhas é {activacoes_df.iloc[:, 0].count()}\")\n",
        "\n",
        "activacoes_df.head()"
      ],
      "metadata": {
        "id": "s5Sno9Imu51U"
      },
      "execution_count": null,
      "outputs": []
    },
    {
      "cell_type": "code",
      "source": [
        "activacoes_df.shape"
      ],
      "metadata": {
        "id": "dJXA2Jkt8bjt"
      },
      "execution_count": null,
      "outputs": []
    },
    {
      "cell_type": "code",
      "source": [
        "#determinar quantos users não têm campanha final\n",
        "\n",
        "print(f\"existem {activacoes_df.iloc[:, -1].isna().sum()} linhas sem campanha final determinada\")\n",
        "activacoes_df.loc[activacoes_df.iloc[:, -1].isna()==True, [\"Tipo\",\"user\", \"campanha final\"]]\n"
      ],
      "metadata": {
        "id": "dNx7liQE6Cq5"
      },
      "execution_count": null,
      "outputs": []
    },
    {
      "cell_type": "code",
      "source": [
        "#determinar a coluna auto com base na coluna \"campanha final\"\n",
        "\n",
        "for i, j in zip(matriz_auto.iloc[:, 0], matriz_auto.iloc[:, 1]):\n",
        "  activacoes_df.loc[activacoes_df[\"campanha final\"]==i, \"auto\"]=j\n",
        "\n",
        "print(f\"existem {activacoes_df['auto'].isna().sum()} linhas sem auto determinado\")\n",
        "\n",
        "print(f\"existem {activacoes_df.iloc[:, 0].count()} linhas no auto\")\n",
        "\n",
        "activacoes_df.auto.head()"
      ],
      "metadata": {
        "id": "5fgPtmeV_tNv"
      },
      "execution_count": null,
      "outputs": []
    },
    {
      "cell_type": "code",
      "source": [
        "#determinar o supervisor para cada linha\n",
        "\n",
        "#encontrar a coluna onde está o \"supervisor\"\n",
        "\n",
        "[i for i in activacoes_df.columns.tolist() if str(i).find(\"supervisor\")!=-1 or str(i).find(\"Supervisor\")!=-1 or str(i).find(\"SUPERVISOR\")!=-1]\n",
        "\n",
        "\n",
        "#formatar coluna de supervisor na tabela de activações\n",
        "\n",
        "activacoes_df[\"Supervisor/QT_GA_LIQ2\"]=activacoes_df[\"Supervisor/QT_GA_LIQ2\"].astype(\"str\")\n",
        "\n",
        "activacoes_df[\"Supervisor/QT_GA_LIQ2\"]=activacoes_df[\"Supervisor/QT_GA_LIQ2\"].apply(lambda j: j.split(\".\")[0])\n",
        "\n",
        "\n",
        "\n",
        "#determinar username do supervisor para cada linha\n",
        "\n",
        "activacoesdf_supervisor=\\\n",
        "pd.DataFrame(activacoes_df[\"Supervisor/QT_GA_LIQ2\"].unique(), columns=[\"supervisor\"])\n",
        "\n",
        "\n",
        "#formatar coluna cav outbound no cadastro\n",
        "cadastro_df[\"CAV Outbound\"]=cadastro_df[\"CAV Outbound\"].astype(\"str\")\n",
        "\n",
        "#fazer merge entre cavs de supervisores na listagem de activações e o cadastro\n",
        "\n",
        "activacoesdf_supervisor=activacoesdf_supervisor.merge(cadastro_df[[\"CAV Outbound\",\"user aplicações 2\"]],\\\n",
        "how=\"left\", left_on=\"supervisor\", right_on=\"CAV Outbound\")\n",
        "\n",
        "#encontrar o username para o supervisor e actualização na listagem de activações\n",
        "\n",
        "for i, j in zip(activacoesdf_supervisor.iloc[:, 0], activacoesdf_supervisor.iloc[:, 2]):\n",
        "  activacoes_df.loc[activacoes_df[\"Supervisor/QT_GA_LIQ2\"]==i, \"username supervisor\"]=j\n",
        "\n"
      ],
      "metadata": {
        "id": "fn6jz8oqx0D0"
      },
      "execution_count": null,
      "outputs": []
    },
    {
      "cell_type": "code",
      "source": [
        "#encontrar username de supervisores com n/a\n",
        "\n",
        "mask_sup1=activacoes_df[\"username supervisor\"].isna()==True\n",
        "mask_sup2=(activacoes_df[\"Supervisor/QT_GA_LIQ2\"].isna()==True) | (activacoes_df[\"Supervisor/QT_GA_LIQ2\"].str.isnumeric())\n",
        "\n",
        "for i in activacoes_df.loc[mask_sup1 & mask_sup2, \"Supervisor/QT_GA_LIQ2\"].unique():\n",
        "  user=listagem_cadastrodf.loc[listagem_cadastrodf.iloc[:, 1].astype(\"str\")==i, \"User Aplicações\"].values[0]\n",
        "  activacoes_df.loc[activacoes_df[\"Supervisor/QT_GA_LIQ2\"]==i, \"username supervisor\"]=j\n"
      ],
      "metadata": {
        "id": "Rly9attC9Y0S"
      },
      "execution_count": null,
      "outputs": []
    },
    {
      "cell_type": "code",
      "source": [
        "#criar coluna \"sub-area de negócio\" no pressuposto de esta ainda não existir\" - aplicável às linhas \"ciclo serviços\"\n",
        "def sub_area_negocio(db, tipo, col_negocio, col_componente):\n",
        "  if len([i for i in db.columns if i.startswith(\"Sub-\")])==0:\n",
        "    #db2=db[db[\"Tipo\"]==tipo]\n",
        "    for i in db[col_negocio].unique():\n",
        "      if i==\"BLM\":\n",
        "        db.loc[(db[col_negocio]==i) & (db[\"Tipo\"]==tipo), \"Sub-Área de Negócio\"]=\"NET MÓVEL\"\n",
        "      elif i==\"MOBILE\":\n",
        "        db.loc[(db[col_negocio]==i) & (db[\"Tipo\"]==tipo), \"Sub-Área de Negócio\"]=\"PÓS-PAGO\"\n",
        "      elif i==\"NET\":\n",
        "        db.loc[(db[col_negocio]==i) & (db[\"Tipo\"]==tipo), \"Sub-Área de Negócio\"]=\"NET\"\n",
        "      elif i==\"VOZ FIXA\":\n",
        "        db.loc[(db[col_negocio]==i) & (db[\"Tipo\"]==tipo), \"Sub-Área de Negócio\"]=\"VOIP\"\n",
        "      elif i==\"SEGUROS\":\n",
        "        db.loc[(db[col_negocio]==i) & (db[\"Tipo\"]==tipo), \"Sub-Área de Negócio\"]=\"SEGUROS\"\n",
        "      elif i==\"TV\":\n",
        "        for j in db[col_componente].unique():\n",
        "          if j==\"Max\":\n",
        "            db.loc[(db[col_componente]==j) & (db[\"Tipo\"]==tipo), \"Sub-Área de Negócio\"]=\"DTH\"\n",
        "          else:\n",
        "            db.loc[(db[col_componente]==j) & (db[\"Tipo\"]==tipo), \"Sub-Área de Negócio\"]=\"CABO\"\n",
        "    return db[\"Sub-Área de Negócio\"]\n",
        "\n",
        "activacoes_df[\"Sub-Área de Negócio\"]=sub_area_negocio(activacoes_df, \"Ciclo - Serviços\", \"Negócio\", \"Componente\")\n",
        "\n",
        "activacoes_df.head()"
      ],
      "metadata": {
        "id": "Xgwlw5u9gUq4"
      },
      "execution_count": null,
      "outputs": []
    },
    {
      "cell_type": "code",
      "source": [
        "def sub_area_negocio_outros (db, col_tipo=\"Tipo\"): #aplicável se não houver coluna \"sub-área de negócio\" para outros ciclos para além se \"serviços\"\n",
        "  #if len([i for i in db.columns if i.startswith(\"Sub-\")])==0:\n",
        "  mask_tipo=(db[col_tipo].str.contains(\"ciclo\", case=False)) & (~db[col_tipo].str.contains(\"serviço\", case=False))\n",
        "  lista=db.loc[mask_tipo, col_tipo].unique().tolist()\n",
        "  print (lista)\n",
        "\n",
        "  dici_ciclo={\"equipamento\":, \"seguro\":, \"marcações\": \"-\", \"migrações\":\"-\"}\n",
        "sub_area_negocio_outros(activacoes_df)\n"
      ],
      "metadata": {
        "id": "sW-ZLkhhJhE-"
      },
      "execution_count": null,
      "outputs": []
    },
    {
      "cell_type": "code",
      "source": [
        "#definição da matriz de upfront operador\n",
        "matriz_upfront=pd.read_excel(modelo_upfront_nome, sheet_name=0).iloc[:, 2:5]\n",
        "\n",
        "matriz_upfront.columns=matriz_upfront.iloc[0, :]\n",
        "\n",
        "matriz_upfront=matriz_upfront.drop(index=0)\n",
        "\n",
        "matriz_upfront.dropna()"
      ],
      "metadata": {
        "id": "-IOs4eXWmOUz"
      },
      "execution_count": null,
      "outputs": []
    },
    {
      "cell_type": "code",
      "source": [
        "#função para determinar valores upfront € no auto\n",
        "def upfront (db, dbmatriz, mascara, colauto=\"Sub-Área de Negócio\", colmatriz=\"Upfront\"):\n",
        "\n",
        "  for i, j in zip(dbmatriz.iloc[:, 0], dbmatriz.iloc[:, 1]):\n",
        "\n",
        "    db.loc[mascara & (db[colauto]==i), \"Upfront €\"]=j\n",
        "\n",
        "  return db\n"
      ],
      "metadata": {
        "id": "ZLL8Wk4cnWbB"
      },
      "execution_count": null,
      "outputs": []
    },
    {
      "cell_type": "code",
      "source": [
        "#função para encontrar upfront €  nas migrações e marcações\n",
        "\n",
        "def upfront_marcmigr (db, col_tipo, col_upfront=\"Upfront €\"):\n",
        "  #mask_tipo1=db[col_tipo].str.contains(\"marcações\", case=False) |db[col_negocio].str.contains(\"migrações\", case=False)\n",
        "  mask_tipo1=db[col_tipo].str.contains(\"ciclo\", case=False)\n",
        "\n",
        "  for w, val in zip([\"marcações\", \"migrações\"], [1.5, 2.5]):\n",
        "    db.loc[(mask_tipo1) & (db[col_tipo].str.contains(w, case=False)), col_upfront]=val\n",
        "\n",
        "upfront_marcmigr(activacoes_df, \"Tipo\")"
      ],
      "metadata": {
        "id": "RwpaO5ID-X_E"
      },
      "execution_count": null,
      "outputs": []
    },
    {
      "cell_type": "code",
      "source": [
        "activacoes_df.to_excel(\"output.xlsx\", index=False)"
      ],
      "metadata": {
        "id": "JZVH1TCbGe8a"
      },
      "execution_count": null,
      "outputs": []
    },
    {
      "cell_type": "code",
      "source": [
        "files.download(\"output.xlsx\")"
      ],
      "metadata": {
        "id": "2-nydgReGoC6"
      },
      "execution_count": null,
      "outputs": []
    },
    {
      "cell_type": "code",
      "source": [
        "#função para determinar os pontos no auto\n",
        "\n",
        "def pontuacao (db, dbmatriz, mascara, colauto=\"Campanha outbound (por CAV, Campanha Final)\", col_daf=\"Analise DAF\", col_pontos=\"pts GCO\"):\n",
        "  #se análise daf for \"Comissionada Navegação Segura\", \"Comissionado Seguro\", \"Comissionado Router 6.0\" ou \"Comissionado Power wi-fi\", pontos é 0\n",
        "\n",
        "  mask1=db[col_daf].isin([\"Comissionada Navegação Segura\", \"Comissionado Seguro\", \"Comissionado Router 6.0\", \"Comissionado Power wi-fi\"])\n",
        "\n",
        "  db.loc[mask1, col_pontos]=0\n",
        "\n",
        "  #se analise daf for \"Comissionado Blitz BLM\" ou \"Comissionado DTH para Cabo\" - vai procurar pelo valor do dicionario\n",
        "\n",
        "  dici_extra={\"Comissionado Blitz BLM\": \"prospect_blitz_blm\", \"Comissionado DTH para Cabo\": \"up_migracao_dth\"}\n",
        "\n",
        "  for i, j in dici_extra.items():\n",
        "    val1=dbmatriz.loc[dbmatriz.iloc[:, 0]==j, col_pontos].values[0] #a coluna de pontos no auto e na matriz pontuação chama-se \"pts GCO\"\n",
        "    db.loc[db[col_daf]==i, col_pontos]=val1\n",
        "\n",
        "  #encontrar pontos para as restantes campanhas (normais)\n",
        "  for i, j in zip(dbmatriz.iloc[:, 0], dbmatriz.iloc[:, 1]):\n",
        "    db.loc[db[colauto]==i, col_pontos]=j\n",
        "\n",
        "pontuacao(activacoes_df, matriz_pontuacao, mascara=lista_mascara)\n"
      ],
      "metadata": {
        "id": "7q0ep3n12G6G"
      },
      "execution_count": null,
      "outputs": []
    },
    {
      "cell_type": "code",
      "source": [],
      "metadata": {
        "id": "tbgRca8jFxmG"
      },
      "execution_count": null,
      "outputs": []
    },
    {
      "cell_type": "code",
      "source": [
        "#definir máscaras para determinar upfront € para cada \"tipo\"\n",
        "tipo_mask=activacoes_df[\"Tipo\"].str.contains(\"serviço\", case=False) & activacoes_df[\"Tipo\"].str.contains(\"ciclo\", case=False)\n",
        "tipo_maskseguros=activacoes_df[\"Tipo\"].str.contains(\"seguro\", case=False) & activacoes_df[\"Tipo\"].str.contains(\"ciclo\", case=False)\n",
        "tipos_maskmigracoes=activacoes_df[\"Tipo\"].str.contains(\"migrações\", case=False) & activacoes_df[\"Tipo\"].str.contains(\"ciclo\", case=False)\n",
        "tipo_maskmarcacoes=activacoes_df[\"Tipo\"].str.contains(\"marcações\", case=False) & activacoes_df[\"Tipo\"].str.contains(\"ciclo\", case=False)\n",
        "\n",
        "#máscara coluna negócio - excluir alarmes\n",
        "negocio_mask1=activacoes_df[\"Negócio\"].str.contains(\"alarme\", case=False)\n",
        "\n",
        "daf_mask1=activacoes_df[\"Analise DAF\"].str.contains(\"dth para cabo\", case=False)\n",
        "daf_mask2=activacoes_df[\"Analise DAF\"].str.contains(\"pré-pago\", case=False)\n",
        "\n",
        "\n",
        "\n"
      ],
      "metadata": {
        "id": "Z5Y3eR8TeoFk"
      },
      "execution_count": null,
      "outputs": []
    },
    {
      "cell_type": "code",
      "source": [
        "#calcular coluna \"upfront €\" para ciclo-serviços e sem dth para cabo nem pré-pagos\n",
        "lista_mascara=tipo_mask & ~negocio_mask1 & ~daf_mask1 & ~daf_mask2\n",
        "\n",
        "df_activacoes=upfront(activacoes_df, matriz_upfront, mascara=lista_mascara)"
      ],
      "metadata": {
        "id": "lwx2wjtlpUgH"
      },
      "execution_count": null,
      "outputs": []
    },
    {
      "cell_type": "code",
      "source": [
        "#calcular coluna \"upfront €\" para ciclo-serviços e com dth para cabo\n",
        "\n",
        "lista_mascara=tipo_mask & ~negocio_mask1 & daf_mask1 & ~daf_mask2\n",
        "activacoes_df.loc[lista_mascara, \"Upfront €\"]=5\n",
        "print(activacoes_df.loc[lista_mascara, \"Upfront €\"].count())"
      ],
      "metadata": {
        "id": "3LABw8ef2LZN"
      },
      "execution_count": null,
      "outputs": []
    },
    {
      "cell_type": "code",
      "source": [
        "#calcular coluna \"upfront €\" para ciclo-serviços e com pré-pagos\n",
        "\n",
        "lista_mascara=tipo_mask & ~negocio_mask1 & ~daf_mask1 & daf_mask2\n",
        "\n",
        "activacoes_df.loc[lista_mascara, \"Upfront €\"]=2.5\n",
        "print(activacoes_df.loc[lista_mascara, \"Upfront €\"].count())"
      ],
      "metadata": {
        "id": "9NFIiiAf2t6t"
      },
      "execution_count": null,
      "outputs": []
    },
    {
      "cell_type": "code",
      "source": [
        "activacoes_df.loc[tipo_mask, \"Upfront €\"].unique()"
      ],
      "metadata": {
        "id": "Ggh49QsmkCu4"
      },
      "execution_count": null,
      "outputs": []
    },
    {
      "cell_type": "markdown",
      "source": [
        "PARTE ANTIGA"
      ],
      "metadata": {
        "id": "u_dnX6W9TrNQ"
      }
    },
    {
      "cell_type": "code",
      "source": [
        "#actualização de nomes de ficheiros e filtros\n",
        "\n",
        "activacao_negativa=\"Ativações_Negativas_fev24_em_mar24_ONE.xlsb\"\n",
        "\n",
        "cadastro=\"Cadastro.xlsb\" #copia-se o cadastro original para um ficheiro à parte antes de importar\n",
        "\n",
        "capitalizacao=\"02.2024 - Capitalização_Eq. Interna Obv.xlsb\"\n",
        "\n",
        "filtro_cap=\"Activação\""
      ],
      "metadata": {
        "id": "nqGK4xr9MyhJ"
      },
      "execution_count": null,
      "outputs": []
    },
    {
      "cell_type": "code",
      "source": [
        "#carregar e definir ficheiro de activações negativas\n",
        "\n",
        "from google.colab import files\n",
        "uploaded = files.upload()\n",
        "uploaded2=files.upload()\n",
        "uploaded3=files.upload()\n",
        "\n",
        "\n",
        "activacao_negativa_df=pd.read_excel(activacao_negativa, sheet_name=0)\n",
        "cadastro_df=pd.read_excel(cadastro, sheet_name=0)\n",
        "capitalizacao_df=pd.read_excel(capitalizacao, sheet_name=\"act\")"
      ],
      "metadata": {
        "id": "1ahtDkblMOCI"
      },
      "execution_count": null,
      "outputs": []
    },
    {
      "cell_type": "code",
      "source": [
        "#função para criar a coluna cav e adicioná-la à bd de activações negativas\n",
        "\n",
        "extensao_total=\"40168941189470163540\"\n",
        "\n",
        "def extractor (str1):\n",
        "\n",
        "  dicionario_extensao={\"entidade\": 6, \"delegacao\": (6,12), \"cav\": 12}\n",
        "\n",
        "  for i, j in dicionario_extensao.items():\n",
        "    if i==\"delegacao\":\n",
        "      start_index, end_index=j\n",
        "      delegacao=str1[start_index:end_index]\n",
        "    elif i==\"cav\":\n",
        "      start_index=j\n",
        "      cav=str1[start_index:]\n",
        "    else:\n",
        "      entidade=str1[:j]\n",
        "  return cav\n",
        "\n",
        "\n",
        "activacao_negativa_df[\"cav\"]=activacao_negativa_df[\"CONCATENATE\"].apply(extractor).astype(\"int\")\n",
        "\n",
        "\n",
        "\n",
        "activacao_negativa_df[\"cav\"].head()\n"
      ],
      "metadata": {
        "id": "xefuT4YlNnqm"
      },
      "execution_count": null,
      "outputs": []
    },
    {
      "cell_type": "code",
      "source": [
        "#eliminar duplicados no ficheiro do cadastro\n",
        "\n",
        "cadastro_short=cadastro_df[[\"Cav outbound\", \"User Aplicações\"]].drop_duplicates()\n"
      ],
      "metadata": {
        "id": "DjdRF4VIDxIX"
      },
      "execution_count": null,
      "outputs": []
    },
    {
      "cell_type": "code",
      "source": [
        "#criar a coluna username na listagem de activações negativas\n",
        "\n",
        "\n",
        "#converter cav outbound numa coluna \"string\"\n",
        "\n",
        "#cadastro_short[\"Cav outbound\"]=cadastro_short[\"Cav outbound\"].astype(\"str\")\n",
        "\n",
        "activacao_negativa_df2= \\\n",
        "activacao_negativa_df.merge(cadastro_short[[\"Cav outbound\", \"User Aplicações\"]], right_on=\"Cav outbound\", left_on=\"cav\", how=\"left\")\n",
        "\n",
        "activacao_negativa_df2.head()\n",
        "\n",
        "\n",
        "print(f\"existem {activacao_negativa_df2['User Aplicações'].isna().sum()} valores nulos na dataframe\")\n",
        "\n",
        "print(activacao_negativa_df2.shape)\n",
        "\n",
        "activacao_negativa_df2.drop(\"Cav outbound\", axis=1) #eliminar coluna \"Cav outbound\" que vem do cadastro\n",
        "\n",
        "activacao_negativa_df2.loc[activacao_negativa_df2[\"cav\"].isna()==True, [\"cav\", \"Cav outbound\"]]"
      ],
      "metadata": {
        "id": "He0p-WvXoOUI"
      },
      "execution_count": null,
      "outputs": []
    },
    {
      "cell_type": "code",
      "source": [
        "#filtrar capitalização por linhas de activação negativa\n",
        "\n",
        "capitalizacao_df2=capitalizacao_df.loc[capitalizacao_df[\"Tipo.1\"]==filtro_cap, [\"Order Item\", \"valor unit pelos pontos Op\", \\\n",
        "                    \"valor unit pelos pontos Sup\", \"valor unit pelos pontos sup tr\", \\\n",
        "                    \"valor unit pelos pontos Co\"]] #Tipo.1 é o nome da coluna que tem o tipo de movimento\n",
        "\n",
        "#criar colunas que vêm da capitalização: quantidade op, quantidade sup, quantidade tc, quantidade coord, quantidade coord2\n",
        "\n",
        "activacao_negativa_df3=activacao_negativa_df2.merge(capitalizacao_df2, on=\"Order Item\", how=\"left\")\n",
        "\n",
        "activacao_negativa_df3.shape\n",
        "\n"
      ],
      "metadata": {
        "id": "ZJ0XlG7Fwfx1"
      },
      "execution_count": null,
      "outputs": []
    },
    {
      "cell_type": "code",
      "source": [
        "#multiplicar os valores das activações por -1 (porque são negativas)\n",
        "\n",
        "activacao_negativa_df3=\\\n",
        "activacao_negativa_df3.loc[:, [\"valor unit pelos pontos Op\", \"valor unit pelos pontos Sup\", \"valor unit pelos pontos sup tr\", \\\n",
        "                           \"valor unit pelos pontos Co\"]].apply(lambda j: j*-1)"
      ],
      "metadata": {
        "id": "ruDTt1vbI3D7"
      },
      "execution_count": null,
      "outputs": []
    },
    {
      "cell_type": "code",
      "source": [
        "activacao_negativa_df3.to_excel(\"output.xlsx\", index=False)"
      ],
      "metadata": {
        "id": "tL7hAy3E5hiP"
      },
      "execution_count": null,
      "outputs": []
    },
    {
      "cell_type": "code",
      "source": [
        "#fazer download do ficheiro\n",
        "\n",
        "files.download('output.xlsx')"
      ],
      "metadata": {
        "id": "rKV30KOE6Ex3"
      },
      "execution_count": null,
      "outputs": []
    }
  ]
}